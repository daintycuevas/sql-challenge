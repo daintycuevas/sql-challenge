{
 "metadata": {
  "language_info": {
   "codemirror_mode": {
    "name": "ipython",
    "version": 3
   },
   "file_extension": ".py",
   "mimetype": "text/x-python",
   "name": "python",
   "nbconvert_exporter": "python",
   "pygments_lexer": "ipython3",
   "version": "3.8.5-final"
  },
  "orig_nbformat": 2,
  "kernelspec": {
   "name": "python3",
   "display_name": "Python 3",
   "language": "python"
  }
 },
 "nbformat": 4,
 "nbformat_minor": 2,
 "cells": [
  {
   "cell_type": "code",
   "execution_count": 1,
   "metadata": {},
   "outputs": [],
   "source": [
    "# Import libraries\n",
    "import pandas as pd\n",
    "import psycopg2\n",
    "from config.config import config"
   ]
  },
  {
   "cell_type": "code",
   "execution_count": 7,
   "metadata": {},
   "outputs": [
    {
     "output_type": "stream",
     "name": "stdout",
     "text": [
      "Python connected to PostgreSQL!\n"
     ]
    }
   ],
   "source": [
    "# Connect to PostgreSQL\n",
    "params = config(config_db = 'database.ini')\n",
    "con = psycopg2.connect(**params)\n",
    "print('Python connected to PostgreSQL!')"
   ]
  },
  {
   "cell_type": "code",
   "execution_count": 10,
   "metadata": {},
   "outputs": [
    {
     "output_type": "stream",
     "name": "stdout",
     "text": [
      "Read table in PostgreSQL\n"
     ]
    }
   ],
   "source": [
    "# Read the table\n",
    "cur = con.cursor()\n",
    "cur.execute(\"\"\"\n",
    "SELECT emp_no,salary FROM salaries LIMIT 5;\n",
    "\"\"\")\n",
    "print('Read table in PostgreSQL')"
   ]
  },
  {
   "cell_type": "code",
   "execution_count": null,
   "metadata": {},
   "outputs": [],
   "source": []
  }
 ]
}