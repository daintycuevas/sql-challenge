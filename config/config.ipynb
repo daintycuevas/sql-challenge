{
 "metadata": {
  "language_info": {
   "codemirror_mode": {
    "name": "ipython",
    "version": 3
   },
   "file_extension": ".py",
   "mimetype": "text/x-python",
   "name": "python",
   "nbconvert_exporter": "python",
   "pygments_lexer": "ipython3",
   "version": "3.8.5-final"
  },
  "orig_nbformat": 2,
  "kernelspec": {
   "name": "python3",
   "display_name": "Python 3",
   "language": "python"
  }
 },
 "nbformat": 4,
 "nbformat_minor": 2,
 "cells": [
  {
   "cell_type": "code",
   "execution_count": 2,
   "metadata": {},
   "outputs": [],
   "source": [
    "# Import libraries\n",
    "from configparser import ConfigParser\n",
    "from pathlib import Path\n"
   ]
  },
  {
   "cell_type": "code",
   "execution_count": 3,
   "metadata": {},
   "outputs": [],
   "source": [
    "def get_project_root() -> Path:\n",
    "  \"\"\"Returns project root folder.\"\"\"\n",
    "  return Path(__file__).parents[1]\n",
    "\n",
    "def config(config_db):\n",
    "  section = 'postgresql'\n",
    "  config_file_path = 'config/' + config_db\n",
    "  if(len(config_file_path) > 0 and len(section) > 0):\n",
    "\n",
    "    # Create an instance of ConfigParser class\n",
    "    config_parser = ConfigParser()\n",
    "\n",
    "    # Read the configuration file\n",
    "    config_parser.read(config_file_path)\n",
    "\n",
    "    # If the configuration file contains the provided section name\n",
    "    if(config_parser.has_section(section)):\n",
    "\n",
    "      # Read the options of the section\n",
    "      config_params = config_parser.items(section)\n",
    "\n",
    "      # Convert the list object to a python dictionary object\n",
    "      # Define an empty dictionary\n",
    "      db_conn_dict = {}\n",
    "\n",
    "      # Loop in the list\n",
    "      for config_param in config_params:\n",
    "\n",
    "        # Get options key and value\n",
    "        key = config_param[0]\n",
    "        value = config_param[1]\n",
    "\n",
    "        # Add the key value pair in the dictionary object\n",
    "        db_conn_dict[key] = value\n",
    "\n",
    "      # Get connection object use above dictionary object\n",
    "      return db_conn_dict"
   ]
  },
  {
   "cell_type": "code",
   "execution_count": null,
   "metadata": {},
   "outputs": [],
   "source": []
  }
 ]
}