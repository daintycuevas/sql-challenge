{
 "metadata": {
  "language_info": {
   "codemirror_mode": {
    "name": "ipython",
    "version": 3
   },
   "file_extension": ".py",
   "mimetype": "text/x-python",
   "name": "python",
   "nbconvert_exporter": "python",
   "pygments_lexer": "ipython3",
   "version": "3.8.5-final"
  },
  "orig_nbformat": 2,
  "kernelspec": {
   "name": "python3",
   "display_name": "Python 3",
   "language": "python"
  }
 },
 "nbformat": 4,
 "nbformat_minor": 2,
 "cells": [
  {
   "cell_type": "code",
   "execution_count": 2,
   "metadata": {},
   "outputs": [],
   "source": [
    "# # Import libraries\n",
    "# set PYTHONPATH=%PYTHONPATH%;C:\\Users\\daint\\Desktop\\sql-challenge\\\n",
    "from config.config import get_project_root\n",
    "# from db_conn import load_db_table"
   ]
  },
  {
   "cell_type": "code",
   "execution_count": 1,
   "metadata": {},
   "outputs": [],
   "source": [
    "from src.data.db_conn import load_db_table"
   ]
  },
  {
   "cell_type": "code",
   "execution_count": 3,
   "metadata": {},
   "outputs": [
    {
     "output_type": "stream",
     "name": "stdout",
     "text": [
      "   emp_no emp_title_id  birth_date  first_name  last_name sex   hire_date\n0  473302        s0001   7/25/1953    Hideyuki   Zallocco   M  1990-04-28\n1  475053        e0002  11/18/1954       Byong  Delgrande   F  1991-09-07\n2   57444        e0002   1/30/1958       Berry       Babb   F  1992-03-21\n3  421786        s0001   9/28/1957       Xiong   Verhoeff   M  1987-11-26\n4  282238        e0003  10/28/1952  Abdelkader    Baumann   F  1991-01-18\n"
     ]
    }
   ],
   "source": [
    "# Project root\n",
    "PROJECT_ROOT = get_project_root()\n",
    "\n",
    "# Read database - PostgreSQL\n",
    "df = load_db_table(config_db = 'database.ini', query = 'SELECT * FROM employees LIMIT 5')\n",
    "print(df)"
   ]
  },
  {
   "cell_type": "code",
   "execution_count": null,
   "metadata": {},
   "outputs": [],
   "source": []
  }
 ]
}